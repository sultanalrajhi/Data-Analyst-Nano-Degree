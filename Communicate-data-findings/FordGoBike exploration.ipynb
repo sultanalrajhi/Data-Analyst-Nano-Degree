{
 "cells": [
  {
   "cell_type": "markdown",
   "metadata": {},
   "source": [
    "# FordGoBike Dataset\n",
    "## by Sultan Alrajhi\n",
    "\n",
    "## Preliminary Wrangling\n",
    "\n",
    "> This data set includes information about individual rides made in a bike-sharing system covering the greater San Francisco Bay area."
   ]
  },
  {
   "cell_type": "code",
   "execution_count": 1,
   "metadata": {},
   "outputs": [],
   "source": [
    "# import all packages and set plots to be embedded inline\n",
    "import numpy as np\n",
    "import pandas as pd\n",
    "import matplotlib.pyplot as plt\n",
    "import seaborn as sb\n",
    "import requests\n",
    "import zipfile\n",
    "import os\n",
    "import datetime as dt\n",
    "\n",
    "%matplotlib inline"
   ]
  },
  {
   "cell_type": "markdown",
   "metadata": {},
   "source": [
    "### Gathering"
   ]
  },
  {
   "cell_type": "code",
   "execution_count": 2,
   "metadata": {},
   "outputs": [],
   "source": [
    "#reading csv file\n",
    "df = pd.read_csv('2017-fordgobike-tripdata.csv')"
   ]
  },
  {
   "cell_type": "markdown",
   "metadata": {},
   "source": [
    "### Assessing"
   ]
  },
  {
   "cell_type": "code",
   "execution_count": 3,
   "metadata": {
    "scrolled": false
   },
   "outputs": [
    {
     "data": {
      "text/html": [
       "<div>\n",
       "<style scoped>\n",
       "    .dataframe tbody tr th:only-of-type {\n",
       "        vertical-align: middle;\n",
       "    }\n",
       "\n",
       "    .dataframe tbody tr th {\n",
       "        vertical-align: top;\n",
       "    }\n",
       "\n",
       "    .dataframe thead th {\n",
       "        text-align: right;\n",
       "    }\n",
       "</style>\n",
       "<table border=\"1\" class=\"dataframe\">\n",
       "  <thead>\n",
       "    <tr style=\"text-align: right;\">\n",
       "      <th></th>\n",
       "      <th>duration_sec</th>\n",
       "      <th>start_time</th>\n",
       "      <th>end_time</th>\n",
       "      <th>start_station_id</th>\n",
       "      <th>start_station_name</th>\n",
       "      <th>start_station_latitude</th>\n",
       "      <th>start_station_longitude</th>\n",
       "      <th>end_station_id</th>\n",
       "      <th>end_station_name</th>\n",
       "      <th>end_station_latitude</th>\n",
       "      <th>end_station_longitude</th>\n",
       "      <th>bike_id</th>\n",
       "      <th>user_type</th>\n",
       "    </tr>\n",
       "  </thead>\n",
       "  <tbody>\n",
       "    <tr>\n",
       "      <th>0</th>\n",
       "      <td>80110</td>\n",
       "      <td>2017-12-31 16:57:39.6540</td>\n",
       "      <td>2018-01-01 15:12:50.2450</td>\n",
       "      <td>74</td>\n",
       "      <td>Laguna St at Hayes St</td>\n",
       "      <td>37.776435</td>\n",
       "      <td>-122.426244</td>\n",
       "      <td>43</td>\n",
       "      <td>San Francisco Public Library (Grove St at Hyde...</td>\n",
       "      <td>37.778768</td>\n",
       "      <td>-122.415929</td>\n",
       "      <td>96</td>\n",
       "      <td>Customer</td>\n",
       "    </tr>\n",
       "    <tr>\n",
       "      <th>1</th>\n",
       "      <td>78800</td>\n",
       "      <td>2017-12-31 15:56:34.8420</td>\n",
       "      <td>2018-01-01 13:49:55.6170</td>\n",
       "      <td>284</td>\n",
       "      <td>Yerba Buena Center for the Arts (Howard St at ...</td>\n",
       "      <td>37.784872</td>\n",
       "      <td>-122.400876</td>\n",
       "      <td>96</td>\n",
       "      <td>Dolores St at 15th St</td>\n",
       "      <td>37.766210</td>\n",
       "      <td>-122.426614</td>\n",
       "      <td>88</td>\n",
       "      <td>Customer</td>\n",
       "    </tr>\n",
       "    <tr>\n",
       "      <th>2</th>\n",
       "      <td>45768</td>\n",
       "      <td>2017-12-31 22:45:48.4110</td>\n",
       "      <td>2018-01-01 11:28:36.8830</td>\n",
       "      <td>245</td>\n",
       "      <td>Downtown Berkeley BART</td>\n",
       "      <td>37.870348</td>\n",
       "      <td>-122.267764</td>\n",
       "      <td>245</td>\n",
       "      <td>Downtown Berkeley BART</td>\n",
       "      <td>37.870348</td>\n",
       "      <td>-122.267764</td>\n",
       "      <td>1094</td>\n",
       "      <td>Customer</td>\n",
       "    </tr>\n",
       "    <tr>\n",
       "      <th>3</th>\n",
       "      <td>62172</td>\n",
       "      <td>2017-12-31 17:31:10.6360</td>\n",
       "      <td>2018-01-01 10:47:23.5310</td>\n",
       "      <td>60</td>\n",
       "      <td>8th St at Ringold St</td>\n",
       "      <td>37.774520</td>\n",
       "      <td>-122.409449</td>\n",
       "      <td>5</td>\n",
       "      <td>Powell St BART Station (Market St at 5th St)</td>\n",
       "      <td>37.783899</td>\n",
       "      <td>-122.408445</td>\n",
       "      <td>2831</td>\n",
       "      <td>Customer</td>\n",
       "    </tr>\n",
       "    <tr>\n",
       "      <th>4</th>\n",
       "      <td>43603</td>\n",
       "      <td>2017-12-31 14:23:14.0010</td>\n",
       "      <td>2018-01-01 02:29:57.5710</td>\n",
       "      <td>239</td>\n",
       "      <td>Bancroft Way at Telegraph Ave</td>\n",
       "      <td>37.868813</td>\n",
       "      <td>-122.258764</td>\n",
       "      <td>247</td>\n",
       "      <td>Fulton St at Bancroft Way</td>\n",
       "      <td>37.867789</td>\n",
       "      <td>-122.265896</td>\n",
       "      <td>3167</td>\n",
       "      <td>Subscriber</td>\n",
       "    </tr>\n",
       "  </tbody>\n",
       "</table>\n",
       "</div>"
      ],
      "text/plain": [
       "   duration_sec                start_time                  end_time  \\\n",
       "0         80110  2017-12-31 16:57:39.6540  2018-01-01 15:12:50.2450   \n",
       "1         78800  2017-12-31 15:56:34.8420  2018-01-01 13:49:55.6170   \n",
       "2         45768  2017-12-31 22:45:48.4110  2018-01-01 11:28:36.8830   \n",
       "3         62172  2017-12-31 17:31:10.6360  2018-01-01 10:47:23.5310   \n",
       "4         43603  2017-12-31 14:23:14.0010  2018-01-01 02:29:57.5710   \n",
       "\n",
       "   start_station_id                                 start_station_name  \\\n",
       "0                74                              Laguna St at Hayes St   \n",
       "1               284  Yerba Buena Center for the Arts (Howard St at ...   \n",
       "2               245                             Downtown Berkeley BART   \n",
       "3                60                               8th St at Ringold St   \n",
       "4               239                      Bancroft Way at Telegraph Ave   \n",
       "\n",
       "   start_station_latitude  start_station_longitude  end_station_id  \\\n",
       "0               37.776435              -122.426244              43   \n",
       "1               37.784872              -122.400876              96   \n",
       "2               37.870348              -122.267764             245   \n",
       "3               37.774520              -122.409449               5   \n",
       "4               37.868813              -122.258764             247   \n",
       "\n",
       "                                    end_station_name  end_station_latitude  \\\n",
       "0  San Francisco Public Library (Grove St at Hyde...             37.778768   \n",
       "1                              Dolores St at 15th St             37.766210   \n",
       "2                             Downtown Berkeley BART             37.870348   \n",
       "3       Powell St BART Station (Market St at 5th St)             37.783899   \n",
       "4                          Fulton St at Bancroft Way             37.867789   \n",
       "\n",
       "   end_station_longitude  bike_id   user_type  \n",
       "0            -122.415929       96    Customer  \n",
       "1            -122.426614       88    Customer  \n",
       "2            -122.267764     1094    Customer  \n",
       "3            -122.408445     2831    Customer  \n",
       "4            -122.265896     3167  Subscriber  "
      ]
     },
     "execution_count": 3,
     "metadata": {},
     "output_type": "execute_result"
    }
   ],
   "source": [
    "df.head()"
   ]
  },
  {
   "cell_type": "code",
   "execution_count": 4,
   "metadata": {},
   "outputs": [
    {
     "data": {
      "text/html": [
       "<div>\n",
       "<style scoped>\n",
       "    .dataframe tbody tr th:only-of-type {\n",
       "        vertical-align: middle;\n",
       "    }\n",
       "\n",
       "    .dataframe tbody tr th {\n",
       "        vertical-align: top;\n",
       "    }\n",
       "\n",
       "    .dataframe thead th {\n",
       "        text-align: right;\n",
       "    }\n",
       "</style>\n",
       "<table border=\"1\" class=\"dataframe\">\n",
       "  <thead>\n",
       "    <tr style=\"text-align: right;\">\n",
       "      <th></th>\n",
       "      <th>duration_sec</th>\n",
       "      <th>start_time</th>\n",
       "      <th>end_time</th>\n",
       "      <th>start_station_id</th>\n",
       "      <th>start_station_name</th>\n",
       "      <th>start_station_latitude</th>\n",
       "      <th>start_station_longitude</th>\n",
       "      <th>end_station_id</th>\n",
       "      <th>end_station_name</th>\n",
       "      <th>end_station_latitude</th>\n",
       "      <th>end_station_longitude</th>\n",
       "      <th>bike_id</th>\n",
       "      <th>user_type</th>\n",
       "    </tr>\n",
       "  </thead>\n",
       "  <tbody>\n",
       "    <tr>\n",
       "      <th>413906</th>\n",
       "      <td>249</td>\n",
       "      <td>2017-08-23 22:42:34.6110</td>\n",
       "      <td>2017-08-23 22:46:44.5530</td>\n",
       "      <td>163</td>\n",
       "      <td>Lake Merritt BART Station</td>\n",
       "      <td>37.797320</td>\n",
       "      <td>-122.265320</td>\n",
       "      <td>186</td>\n",
       "      <td>Lakeside Dr at 14th St</td>\n",
       "      <td>37.801319</td>\n",
       "      <td>-122.262642</td>\n",
       "      <td>1268</td>\n",
       "      <td>Subscriber</td>\n",
       "    </tr>\n",
       "    <tr>\n",
       "      <th>299319</th>\n",
       "      <td>257</td>\n",
       "      <td>2017-09-28 13:48:54.7190</td>\n",
       "      <td>2017-09-28 13:53:12.6300</td>\n",
       "      <td>70</td>\n",
       "      <td>Central Ave at Fell St</td>\n",
       "      <td>37.773311</td>\n",
       "      <td>-122.444293</td>\n",
       "      <td>71</td>\n",
       "      <td>Broderick St at Oak St</td>\n",
       "      <td>37.773063</td>\n",
       "      <td>-122.439078</td>\n",
       "      <td>3149</td>\n",
       "      <td>Customer</td>\n",
       "    </tr>\n",
       "    <tr>\n",
       "      <th>388057</th>\n",
       "      <td>969</td>\n",
       "      <td>2017-09-01 14:26:30.1370</td>\n",
       "      <td>2017-09-01 14:42:39.9440</td>\n",
       "      <td>116</td>\n",
       "      <td>Mississippi St at 17th St</td>\n",
       "      <td>37.764802</td>\n",
       "      <td>-122.394771</td>\n",
       "      <td>28</td>\n",
       "      <td>The Embarcadero at Bryant St</td>\n",
       "      <td>37.787168</td>\n",
       "      <td>-122.388098</td>\n",
       "      <td>2749</td>\n",
       "      <td>Subscriber</td>\n",
       "    </tr>\n",
       "    <tr>\n",
       "      <th>129456</th>\n",
       "      <td>296</td>\n",
       "      <td>2017-11-15 18:12:50.6800</td>\n",
       "      <td>2017-11-15 18:17:47.0500</td>\n",
       "      <td>323</td>\n",
       "      <td>Broadway at Kearny</td>\n",
       "      <td>37.798014</td>\n",
       "      <td>-122.405950</td>\n",
       "      <td>6</td>\n",
       "      <td>The Embarcadero at Sansome St</td>\n",
       "      <td>37.804770</td>\n",
       "      <td>-122.403234</td>\n",
       "      <td>1127</td>\n",
       "      <td>Subscriber</td>\n",
       "    </tr>\n",
       "    <tr>\n",
       "      <th>328120</th>\n",
       "      <td>492</td>\n",
       "      <td>2017-09-20 10:33:10.3000</td>\n",
       "      <td>2017-09-20 10:41:23.0190</td>\n",
       "      <td>4</td>\n",
       "      <td>Cyril Magnin St at Ellis St</td>\n",
       "      <td>37.785881</td>\n",
       "      <td>-122.408915</td>\n",
       "      <td>10</td>\n",
       "      <td>Washington St at Kearny St</td>\n",
       "      <td>37.795393</td>\n",
       "      <td>-122.404770</td>\n",
       "      <td>1371</td>\n",
       "      <td>Subscriber</td>\n",
       "    </tr>\n",
       "    <tr>\n",
       "      <th>285454</th>\n",
       "      <td>467</td>\n",
       "      <td>2017-10-02 18:33:35.8490</td>\n",
       "      <td>2017-10-02 18:41:23.7270</td>\n",
       "      <td>323</td>\n",
       "      <td>Broadway at Kearny</td>\n",
       "      <td>37.798014</td>\n",
       "      <td>-122.405950</td>\n",
       "      <td>22</td>\n",
       "      <td>Howard St at Beale St</td>\n",
       "      <td>37.789756</td>\n",
       "      <td>-122.394643</td>\n",
       "      <td>3076</td>\n",
       "      <td>Subscriber</td>\n",
       "    </tr>\n",
       "    <tr>\n",
       "      <th>352294</th>\n",
       "      <td>1152</td>\n",
       "      <td>2017-09-13 09:35:58.8810</td>\n",
       "      <td>2017-09-13 09:55:11.4820</td>\n",
       "      <td>112</td>\n",
       "      <td>Harrison St at 17th St</td>\n",
       "      <td>37.763847</td>\n",
       "      <td>-122.413004</td>\n",
       "      <td>24</td>\n",
       "      <td>Spear St at Folsom St</td>\n",
       "      <td>37.789677</td>\n",
       "      <td>-122.390428</td>\n",
       "      <td>2160</td>\n",
       "      <td>Customer</td>\n",
       "    </tr>\n",
       "    <tr>\n",
       "      <th>400419</th>\n",
       "      <td>331</td>\n",
       "      <td>2017-08-28 19:28:24.1420</td>\n",
       "      <td>2017-08-28 19:33:55.5620</td>\n",
       "      <td>134</td>\n",
       "      <td>Valencia St at 24th St</td>\n",
       "      <td>37.752428</td>\n",
       "      <td>-122.420628</td>\n",
       "      <td>123</td>\n",
       "      <td>Folsom St at 19th St</td>\n",
       "      <td>37.760594</td>\n",
       "      <td>-122.414817</td>\n",
       "      <td>2525</td>\n",
       "      <td>Subscriber</td>\n",
       "    </tr>\n",
       "    <tr>\n",
       "      <th>292356</th>\n",
       "      <td>1328</td>\n",
       "      <td>2017-09-30 14:07:12.6740</td>\n",
       "      <td>2017-09-30 14:29:20.9090</td>\n",
       "      <td>10</td>\n",
       "      <td>Washington St at Kearny St</td>\n",
       "      <td>37.795393</td>\n",
       "      <td>-122.404770</td>\n",
       "      <td>36</td>\n",
       "      <td>Folsom St at 3rd St</td>\n",
       "      <td>37.783830</td>\n",
       "      <td>-122.398870</td>\n",
       "      <td>1689</td>\n",
       "      <td>Customer</td>\n",
       "    </tr>\n",
       "    <tr>\n",
       "      <th>167714</th>\n",
       "      <td>882</td>\n",
       "      <td>2017-11-05 08:12:39.9620</td>\n",
       "      <td>2017-11-05 08:27:22.0040</td>\n",
       "      <td>139</td>\n",
       "      <td>Garfield Square (25th St at Harrison St)</td>\n",
       "      <td>37.751017</td>\n",
       "      <td>-122.411901</td>\n",
       "      <td>93</td>\n",
       "      <td>4th St at Mission Bay Blvd S</td>\n",
       "      <td>37.770407</td>\n",
       "      <td>-122.391198</td>\n",
       "      <td>2883</td>\n",
       "      <td>Customer</td>\n",
       "    </tr>\n",
       "  </tbody>\n",
       "</table>\n",
       "</div>"
      ],
      "text/plain": [
       "        duration_sec                start_time                  end_time  \\\n",
       "413906           249  2017-08-23 22:42:34.6110  2017-08-23 22:46:44.5530   \n",
       "299319           257  2017-09-28 13:48:54.7190  2017-09-28 13:53:12.6300   \n",
       "388057           969  2017-09-01 14:26:30.1370  2017-09-01 14:42:39.9440   \n",
       "129456           296  2017-11-15 18:12:50.6800  2017-11-15 18:17:47.0500   \n",
       "328120           492  2017-09-20 10:33:10.3000  2017-09-20 10:41:23.0190   \n",
       "285454           467  2017-10-02 18:33:35.8490  2017-10-02 18:41:23.7270   \n",
       "352294          1152  2017-09-13 09:35:58.8810  2017-09-13 09:55:11.4820   \n",
       "400419           331  2017-08-28 19:28:24.1420  2017-08-28 19:33:55.5620   \n",
       "292356          1328  2017-09-30 14:07:12.6740  2017-09-30 14:29:20.9090   \n",
       "167714           882  2017-11-05 08:12:39.9620  2017-11-05 08:27:22.0040   \n",
       "\n",
       "        start_station_id                        start_station_name  \\\n",
       "413906               163                 Lake Merritt BART Station   \n",
       "299319                70                    Central Ave at Fell St   \n",
       "388057               116                 Mississippi St at 17th St   \n",
       "129456               323                        Broadway at Kearny   \n",
       "328120                 4               Cyril Magnin St at Ellis St   \n",
       "285454               323                        Broadway at Kearny   \n",
       "352294               112                    Harrison St at 17th St   \n",
       "400419               134                    Valencia St at 24th St   \n",
       "292356                10                Washington St at Kearny St   \n",
       "167714               139  Garfield Square (25th St at Harrison St)   \n",
       "\n",
       "        start_station_latitude  start_station_longitude  end_station_id  \\\n",
       "413906               37.797320              -122.265320             186   \n",
       "299319               37.773311              -122.444293              71   \n",
       "388057               37.764802              -122.394771              28   \n",
       "129456               37.798014              -122.405950               6   \n",
       "328120               37.785881              -122.408915              10   \n",
       "285454               37.798014              -122.405950              22   \n",
       "352294               37.763847              -122.413004              24   \n",
       "400419               37.752428              -122.420628             123   \n",
       "292356               37.795393              -122.404770              36   \n",
       "167714               37.751017              -122.411901              93   \n",
       "\n",
       "                     end_station_name  end_station_latitude  \\\n",
       "413906         Lakeside Dr at 14th St             37.801319   \n",
       "299319         Broderick St at Oak St             37.773063   \n",
       "388057   The Embarcadero at Bryant St             37.787168   \n",
       "129456  The Embarcadero at Sansome St             37.804770   \n",
       "328120     Washington St at Kearny St             37.795393   \n",
       "285454          Howard St at Beale St             37.789756   \n",
       "352294          Spear St at Folsom St             37.789677   \n",
       "400419           Folsom St at 19th St             37.760594   \n",
       "292356            Folsom St at 3rd St             37.783830   \n",
       "167714   4th St at Mission Bay Blvd S             37.770407   \n",
       "\n",
       "        end_station_longitude  bike_id   user_type  \n",
       "413906            -122.262642     1268  Subscriber  \n",
       "299319            -122.439078     3149    Customer  \n",
       "388057            -122.388098     2749  Subscriber  \n",
       "129456            -122.403234     1127  Subscriber  \n",
       "328120            -122.404770     1371  Subscriber  \n",
       "285454            -122.394643     3076  Subscriber  \n",
       "352294            -122.390428     2160    Customer  \n",
       "400419            -122.414817     2525  Subscriber  \n",
       "292356            -122.398870     1689    Customer  \n",
       "167714            -122.391198     2883    Customer  "
      ]
     },
     "execution_count": 4,
     "metadata": {},
     "output_type": "execute_result"
    }
   ],
   "source": [
    "df.sample(10)"
   ]
  },
  {
   "cell_type": "code",
   "execution_count": 5,
   "metadata": {
    "scrolled": true
   },
   "outputs": [
    {
     "data": {
      "text/plain": [
       "(519700, 13)"
      ]
     },
     "execution_count": 5,
     "metadata": {},
     "output_type": "execute_result"
    }
   ],
   "source": [
    "#number of rows and column\n",
    "df.shape"
   ]
  },
  {
   "cell_type": "code",
   "execution_count": 6,
   "metadata": {},
   "outputs": [
    {
     "name": "stdout",
     "output_type": "stream",
     "text": [
      "<class 'pandas.core.frame.DataFrame'>\n",
      "RangeIndex: 519700 entries, 0 to 519699\n",
      "Data columns (total 13 columns):\n",
      " #   Column                   Non-Null Count   Dtype  \n",
      "---  ------                   --------------   -----  \n",
      " 0   duration_sec             519700 non-null  int64  \n",
      " 1   start_time               519700 non-null  object \n",
      " 2   end_time                 519700 non-null  object \n",
      " 3   start_station_id         519700 non-null  int64  \n",
      " 4   start_station_name       519700 non-null  object \n",
      " 5   start_station_latitude   519700 non-null  float64\n",
      " 6   start_station_longitude  519700 non-null  float64\n",
      " 7   end_station_id           519700 non-null  int64  \n",
      " 8   end_station_name         519700 non-null  object \n",
      " 9   end_station_latitude     519700 non-null  float64\n",
      " 10  end_station_longitude    519700 non-null  float64\n",
      " 11  bike_id                  519700 non-null  int64  \n",
      " 12  user_type                519700 non-null  object \n",
      "dtypes: float64(4), int64(4), object(5)\n",
      "memory usage: 51.5+ MB\n"
     ]
    }
   ],
   "source": [
    "df.info()"
   ]
  },
  {
   "cell_type": "code",
   "execution_count": 7,
   "metadata": {},
   "outputs": [
    {
     "data": {
      "text/html": [
       "<div>\n",
       "<style scoped>\n",
       "    .dataframe tbody tr th:only-of-type {\n",
       "        vertical-align: middle;\n",
       "    }\n",
       "\n",
       "    .dataframe tbody tr th {\n",
       "        vertical-align: top;\n",
       "    }\n",
       "\n",
       "    .dataframe thead th {\n",
       "        text-align: right;\n",
       "    }\n",
       "</style>\n",
       "<table border=\"1\" class=\"dataframe\">\n",
       "  <thead>\n",
       "    <tr style=\"text-align: right;\">\n",
       "      <th></th>\n",
       "      <th>duration_sec</th>\n",
       "      <th>start_station_id</th>\n",
       "      <th>start_station_latitude</th>\n",
       "      <th>start_station_longitude</th>\n",
       "      <th>end_station_id</th>\n",
       "      <th>end_station_latitude</th>\n",
       "      <th>end_station_longitude</th>\n",
       "      <th>bike_id</th>\n",
       "    </tr>\n",
       "  </thead>\n",
       "  <tbody>\n",
       "    <tr>\n",
       "      <th>count</th>\n",
       "      <td>519700.000000</td>\n",
       "      <td>519700.000000</td>\n",
       "      <td>519700.000000</td>\n",
       "      <td>519700.000000</td>\n",
       "      <td>519700.000000</td>\n",
       "      <td>519700.000000</td>\n",
       "      <td>519700.000000</td>\n",
       "      <td>519700.000000</td>\n",
       "    </tr>\n",
       "    <tr>\n",
       "      <th>mean</th>\n",
       "      <td>1099.009521</td>\n",
       "      <td>95.034245</td>\n",
       "      <td>37.771653</td>\n",
       "      <td>-122.363927</td>\n",
       "      <td>92.184041</td>\n",
       "      <td>37.771844</td>\n",
       "      <td>-122.363236</td>\n",
       "      <td>1672.533079</td>\n",
       "    </tr>\n",
       "    <tr>\n",
       "      <th>std</th>\n",
       "      <td>3444.146451</td>\n",
       "      <td>86.083078</td>\n",
       "      <td>0.086305</td>\n",
       "      <td>0.105573</td>\n",
       "      <td>84.969491</td>\n",
       "      <td>0.086224</td>\n",
       "      <td>0.105122</td>\n",
       "      <td>971.356959</td>\n",
       "    </tr>\n",
       "    <tr>\n",
       "      <th>min</th>\n",
       "      <td>61.000000</td>\n",
       "      <td>3.000000</td>\n",
       "      <td>37.317298</td>\n",
       "      <td>-122.444293</td>\n",
       "      <td>3.000000</td>\n",
       "      <td>37.317298</td>\n",
       "      <td>-122.444293</td>\n",
       "      <td>10.000000</td>\n",
       "    </tr>\n",
       "    <tr>\n",
       "      <th>25%</th>\n",
       "      <td>382.000000</td>\n",
       "      <td>24.000000</td>\n",
       "      <td>37.773492</td>\n",
       "      <td>-122.411726</td>\n",
       "      <td>23.000000</td>\n",
       "      <td>37.774520</td>\n",
       "      <td>-122.410345</td>\n",
       "      <td>787.000000</td>\n",
       "    </tr>\n",
       "    <tr>\n",
       "      <th>50%</th>\n",
       "      <td>596.000000</td>\n",
       "      <td>67.000000</td>\n",
       "      <td>37.783521</td>\n",
       "      <td>-122.398870</td>\n",
       "      <td>66.000000</td>\n",
       "      <td>37.783830</td>\n",
       "      <td>-122.398525</td>\n",
       "      <td>1728.500000</td>\n",
       "    </tr>\n",
       "    <tr>\n",
       "      <th>75%</th>\n",
       "      <td>938.000000</td>\n",
       "      <td>139.000000</td>\n",
       "      <td>37.795392</td>\n",
       "      <td>-122.391034</td>\n",
       "      <td>134.000000</td>\n",
       "      <td>37.795392</td>\n",
       "      <td>-122.391034</td>\n",
       "      <td>2520.000000</td>\n",
       "    </tr>\n",
       "    <tr>\n",
       "      <th>max</th>\n",
       "      <td>86369.000000</td>\n",
       "      <td>340.000000</td>\n",
       "      <td>37.880222</td>\n",
       "      <td>-121.874119</td>\n",
       "      <td>340.000000</td>\n",
       "      <td>37.880222</td>\n",
       "      <td>-121.874119</td>\n",
       "      <td>3733.000000</td>\n",
       "    </tr>\n",
       "  </tbody>\n",
       "</table>\n",
       "</div>"
      ],
      "text/plain": [
       "        duration_sec  start_station_id  start_station_latitude  \\\n",
       "count  519700.000000     519700.000000           519700.000000   \n",
       "mean     1099.009521         95.034245               37.771653   \n",
       "std      3444.146451         86.083078                0.086305   \n",
       "min        61.000000          3.000000               37.317298   \n",
       "25%       382.000000         24.000000               37.773492   \n",
       "50%       596.000000         67.000000               37.783521   \n",
       "75%       938.000000        139.000000               37.795392   \n",
       "max     86369.000000        340.000000               37.880222   \n",
       "\n",
       "       start_station_longitude  end_station_id  end_station_latitude  \\\n",
       "count            519700.000000   519700.000000         519700.000000   \n",
       "mean               -122.363927       92.184041             37.771844   \n",
       "std                   0.105573       84.969491              0.086224   \n",
       "min                -122.444293        3.000000             37.317298   \n",
       "25%                -122.411726       23.000000             37.774520   \n",
       "50%                -122.398870       66.000000             37.783830   \n",
       "75%                -122.391034      134.000000             37.795392   \n",
       "max                -121.874119      340.000000             37.880222   \n",
       "\n",
       "       end_station_longitude        bike_id  \n",
       "count          519700.000000  519700.000000  \n",
       "mean             -122.363236    1672.533079  \n",
       "std                 0.105122     971.356959  \n",
       "min              -122.444293      10.000000  \n",
       "25%              -122.410345     787.000000  \n",
       "50%              -122.398525    1728.500000  \n",
       "75%              -122.391034    2520.000000  \n",
       "max              -121.874119    3733.000000  "
      ]
     },
     "execution_count": 7,
     "metadata": {},
     "output_type": "execute_result"
    }
   ],
   "source": [
    "df.describe()"
   ]
  },
  {
   "cell_type": "code",
   "execution_count": 8,
   "metadata": {
    "scrolled": true
   },
   "outputs": [
    {
     "data": {
      "text/plain": [
       "duration_sec               0\n",
       "start_time                 0\n",
       "end_time                   0\n",
       "start_station_id           0\n",
       "start_station_name         0\n",
       "start_station_latitude     0\n",
       "start_station_longitude    0\n",
       "end_station_id             0\n",
       "end_station_name           0\n",
       "end_station_latitude       0\n",
       "end_station_longitude      0\n",
       "bike_id                    0\n",
       "user_type                  0\n",
       "dtype: int64"
      ]
     },
     "execution_count": 8,
     "metadata": {},
     "output_type": "execute_result"
    }
   ],
   "source": [
    "#Checking for missing values\n",
    "df.isna().sum()"
   ]
  },
  {
   "cell_type": "code",
   "execution_count": 9,
   "metadata": {},
   "outputs": [
    {
     "data": {
      "text/plain": [
       "0"
      ]
     },
     "execution_count": 9,
     "metadata": {},
     "output_type": "execute_result"
    }
   ],
   "source": [
    "#checking for duplicates\n",
    "df.duplicated().sum()"
   ]
  },
  {
   "cell_type": "markdown",
   "metadata": {},
   "source": [
    "### Cleaning"
   ]
  },
  {
   "cell_type": "markdown",
   "metadata": {},
   "source": [
    "- convert start_time , end_time to datetime variable\n",
    "- convert user_type to category\n",
    "- extracting the start time data to hours, days, month for better visualization"
   ]
  },
  {
   "cell_type": "code",
   "execution_count": 10,
   "metadata": {},
   "outputs": [],
   "source": [
    "#make a copy of the dataset\n",
    "df_clean = df.copy()"
   ]
  },
  {
   "cell_type": "markdown",
   "metadata": {},
   "source": [
    "##### Define\n",
    "convert start_time , end_time to datetime variable"
   ]
  },
  {
   "cell_type": "markdown",
   "metadata": {},
   "source": [
    "##### Code"
   ]
  },
  {
   "cell_type": "code",
   "execution_count": 11,
   "metadata": {},
   "outputs": [],
   "source": [
    "df_clean.start_time = pd.to_datetime(df_clean.start_time)\n",
    "df_clean.end_time = pd.to_datetime(df_clean.end_time)"
   ]
  },
  {
   "cell_type": "markdown",
   "metadata": {},
   "source": [
    "##### Test"
   ]
  },
  {
   "cell_type": "code",
   "execution_count": 12,
   "metadata": {
    "scrolled": true
   },
   "outputs": [
    {
     "data": {
      "text/plain": [
       "duration_sec                        int64\n",
       "start_time                 datetime64[ns]\n",
       "end_time                   datetime64[ns]\n",
       "start_station_id                    int64\n",
       "start_station_name                 object\n",
       "start_station_latitude            float64\n",
       "start_station_longitude           float64\n",
       "end_station_id                      int64\n",
       "end_station_name                   object\n",
       "end_station_latitude              float64\n",
       "end_station_longitude             float64\n",
       "bike_id                             int64\n",
       "user_type                          object\n",
       "dtype: object"
      ]
     },
     "execution_count": 12,
     "metadata": {},
     "output_type": "execute_result"
    }
   ],
   "source": [
    "df_clean.dtypes"
   ]
  },
  {
   "cell_type": "markdown",
   "metadata": {},
   "source": [
    "##### Define\n",
    "convert user_type to category"
   ]
  },
  {
   "cell_type": "markdown",
   "metadata": {},
   "source": [
    "##### Code"
   ]
  },
  {
   "cell_type": "code",
   "execution_count": 13,
   "metadata": {},
   "outputs": [],
   "source": [
    "df_clean.user_type = df_clean.user_type.astype('category')"
   ]
  },
  {
   "cell_type": "markdown",
   "metadata": {},
   "source": [
    "##### Test"
   ]
  },
  {
   "cell_type": "code",
   "execution_count": 14,
   "metadata": {},
   "outputs": [
    {
     "data": {
      "text/plain": [
       "duration_sec                        int64\n",
       "start_time                 datetime64[ns]\n",
       "end_time                   datetime64[ns]\n",
       "start_station_id                    int64\n",
       "start_station_name                 object\n",
       "start_station_latitude            float64\n",
       "start_station_longitude           float64\n",
       "end_station_id                      int64\n",
       "end_station_name                   object\n",
       "end_station_latitude              float64\n",
       "end_station_longitude             float64\n",
       "bike_id                             int64\n",
       "user_type                        category\n",
       "dtype: object"
      ]
     },
     "execution_count": 14,
     "metadata": {},
     "output_type": "execute_result"
    }
   ],
   "source": [
    "df_clean.dtypes"
   ]
  },
  {
   "cell_type": "markdown",
   "metadata": {},
   "source": [
    "##### Define\n",
    "extracting the start time to hours, days, month"
   ]
  },
  {
   "cell_type": "markdown",
   "metadata": {},
   "source": [
    "##### Code"
   ]
  },
  {
   "cell_type": "code",
   "execution_count": 15,
   "metadata": {},
   "outputs": [],
   "source": [
    "df_clean['start_hour'] = df_clean['start_time'].dt.hour"
   ]
  },
  {
   "cell_type": "code",
   "execution_count": 16,
   "metadata": {},
   "outputs": [],
   "source": [
    "df_clean['start_day'] = df_clean['start_time'].dt.strftime('%a')"
   ]
  },
  {
   "cell_type": "code",
   "execution_count": 17,
   "metadata": {
    "scrolled": true
   },
   "outputs": [],
   "source": [
    "df_clean['start_month'] = df_clean['start_time'].dt.month_name()"
   ]
  },
  {
   "cell_type": "code",
   "execution_count": 18,
   "metadata": {},
   "outputs": [],
   "source": [
    "df_clean['duration_min']=df_clean['duration_sec']/60"
   ]
  },
  {
   "cell_type": "markdown",
   "metadata": {},
   "source": [
    "##### Test"
   ]
  },
  {
   "cell_type": "code",
   "execution_count": 19,
   "metadata": {
    "scrolled": false
   },
   "outputs": [
    {
     "data": {
      "text/html": [
       "<div>\n",
       "<style scoped>\n",
       "    .dataframe tbody tr th:only-of-type {\n",
       "        vertical-align: middle;\n",
       "    }\n",
       "\n",
       "    .dataframe tbody tr th {\n",
       "        vertical-align: top;\n",
       "    }\n",
       "\n",
       "    .dataframe thead th {\n",
       "        text-align: right;\n",
       "    }\n",
       "</style>\n",
       "<table border=\"1\" class=\"dataframe\">\n",
       "  <thead>\n",
       "    <tr style=\"text-align: right;\">\n",
       "      <th></th>\n",
       "      <th>duration_sec</th>\n",
       "      <th>start_time</th>\n",
       "      <th>end_time</th>\n",
       "      <th>start_station_id</th>\n",
       "      <th>start_station_name</th>\n",
       "      <th>start_station_latitude</th>\n",
       "      <th>start_station_longitude</th>\n",
       "      <th>end_station_id</th>\n",
       "      <th>end_station_name</th>\n",
       "      <th>end_station_latitude</th>\n",
       "      <th>end_station_longitude</th>\n",
       "      <th>bike_id</th>\n",
       "      <th>user_type</th>\n",
       "      <th>start_hour</th>\n",
       "      <th>start_day</th>\n",
       "      <th>start_month</th>\n",
       "      <th>duration_min</th>\n",
       "    </tr>\n",
       "  </thead>\n",
       "  <tbody>\n",
       "    <tr>\n",
       "      <th>0</th>\n",
       "      <td>80110</td>\n",
       "      <td>2017-12-31 16:57:39.654</td>\n",
       "      <td>2018-01-01 15:12:50.245</td>\n",
       "      <td>74</td>\n",
       "      <td>Laguna St at Hayes St</td>\n",
       "      <td>37.776435</td>\n",
       "      <td>-122.426244</td>\n",
       "      <td>43</td>\n",
       "      <td>San Francisco Public Library (Grove St at Hyde...</td>\n",
       "      <td>37.778768</td>\n",
       "      <td>-122.415929</td>\n",
       "      <td>96</td>\n",
       "      <td>Customer</td>\n",
       "      <td>16</td>\n",
       "      <td>Sun</td>\n",
       "      <td>December</td>\n",
       "      <td>1335.166667</td>\n",
       "    </tr>\n",
       "    <tr>\n",
       "      <th>1</th>\n",
       "      <td>78800</td>\n",
       "      <td>2017-12-31 15:56:34.842</td>\n",
       "      <td>2018-01-01 13:49:55.617</td>\n",
       "      <td>284</td>\n",
       "      <td>Yerba Buena Center for the Arts (Howard St at ...</td>\n",
       "      <td>37.784872</td>\n",
       "      <td>-122.400876</td>\n",
       "      <td>96</td>\n",
       "      <td>Dolores St at 15th St</td>\n",
       "      <td>37.766210</td>\n",
       "      <td>-122.426614</td>\n",
       "      <td>88</td>\n",
       "      <td>Customer</td>\n",
       "      <td>15</td>\n",
       "      <td>Sun</td>\n",
       "      <td>December</td>\n",
       "      <td>1313.333333</td>\n",
       "    </tr>\n",
       "    <tr>\n",
       "      <th>2</th>\n",
       "      <td>45768</td>\n",
       "      <td>2017-12-31 22:45:48.411</td>\n",
       "      <td>2018-01-01 11:28:36.883</td>\n",
       "      <td>245</td>\n",
       "      <td>Downtown Berkeley BART</td>\n",
       "      <td>37.870348</td>\n",
       "      <td>-122.267764</td>\n",
       "      <td>245</td>\n",
       "      <td>Downtown Berkeley BART</td>\n",
       "      <td>37.870348</td>\n",
       "      <td>-122.267764</td>\n",
       "      <td>1094</td>\n",
       "      <td>Customer</td>\n",
       "      <td>22</td>\n",
       "      <td>Sun</td>\n",
       "      <td>December</td>\n",
       "      <td>762.800000</td>\n",
       "    </tr>\n",
       "    <tr>\n",
       "      <th>3</th>\n",
       "      <td>62172</td>\n",
       "      <td>2017-12-31 17:31:10.636</td>\n",
       "      <td>2018-01-01 10:47:23.531</td>\n",
       "      <td>60</td>\n",
       "      <td>8th St at Ringold St</td>\n",
       "      <td>37.774520</td>\n",
       "      <td>-122.409449</td>\n",
       "      <td>5</td>\n",
       "      <td>Powell St BART Station (Market St at 5th St)</td>\n",
       "      <td>37.783899</td>\n",
       "      <td>-122.408445</td>\n",
       "      <td>2831</td>\n",
       "      <td>Customer</td>\n",
       "      <td>17</td>\n",
       "      <td>Sun</td>\n",
       "      <td>December</td>\n",
       "      <td>1036.200000</td>\n",
       "    </tr>\n",
       "    <tr>\n",
       "      <th>4</th>\n",
       "      <td>43603</td>\n",
       "      <td>2017-12-31 14:23:14.001</td>\n",
       "      <td>2018-01-01 02:29:57.571</td>\n",
       "      <td>239</td>\n",
       "      <td>Bancroft Way at Telegraph Ave</td>\n",
       "      <td>37.868813</td>\n",
       "      <td>-122.258764</td>\n",
       "      <td>247</td>\n",
       "      <td>Fulton St at Bancroft Way</td>\n",
       "      <td>37.867789</td>\n",
       "      <td>-122.265896</td>\n",
       "      <td>3167</td>\n",
       "      <td>Subscriber</td>\n",
       "      <td>14</td>\n",
       "      <td>Sun</td>\n",
       "      <td>December</td>\n",
       "      <td>726.716667</td>\n",
       "    </tr>\n",
       "  </tbody>\n",
       "</table>\n",
       "</div>"
      ],
      "text/plain": [
       "   duration_sec              start_time                end_time  \\\n",
       "0         80110 2017-12-31 16:57:39.654 2018-01-01 15:12:50.245   \n",
       "1         78800 2017-12-31 15:56:34.842 2018-01-01 13:49:55.617   \n",
       "2         45768 2017-12-31 22:45:48.411 2018-01-01 11:28:36.883   \n",
       "3         62172 2017-12-31 17:31:10.636 2018-01-01 10:47:23.531   \n",
       "4         43603 2017-12-31 14:23:14.001 2018-01-01 02:29:57.571   \n",
       "\n",
       "   start_station_id                                 start_station_name  \\\n",
       "0                74                              Laguna St at Hayes St   \n",
       "1               284  Yerba Buena Center for the Arts (Howard St at ...   \n",
       "2               245                             Downtown Berkeley BART   \n",
       "3                60                               8th St at Ringold St   \n",
       "4               239                      Bancroft Way at Telegraph Ave   \n",
       "\n",
       "   start_station_latitude  start_station_longitude  end_station_id  \\\n",
       "0               37.776435              -122.426244              43   \n",
       "1               37.784872              -122.400876              96   \n",
       "2               37.870348              -122.267764             245   \n",
       "3               37.774520              -122.409449               5   \n",
       "4               37.868813              -122.258764             247   \n",
       "\n",
       "                                    end_station_name  end_station_latitude  \\\n",
       "0  San Francisco Public Library (Grove St at Hyde...             37.778768   \n",
       "1                              Dolores St at 15th St             37.766210   \n",
       "2                             Downtown Berkeley BART             37.870348   \n",
       "3       Powell St BART Station (Market St at 5th St)             37.783899   \n",
       "4                          Fulton St at Bancroft Way             37.867789   \n",
       "\n",
       "   end_station_longitude  bike_id   user_type  start_hour start_day  \\\n",
       "0            -122.415929       96    Customer          16       Sun   \n",
       "1            -122.426614       88    Customer          15       Sun   \n",
       "2            -122.267764     1094    Customer          22       Sun   \n",
       "3            -122.408445     2831    Customer          17       Sun   \n",
       "4            -122.265896     3167  Subscriber          14       Sun   \n",
       "\n",
       "  start_month  duration_min  \n",
       "0    December   1335.166667  \n",
       "1    December   1313.333333  \n",
       "2    December    762.800000  \n",
       "3    December   1036.200000  \n",
       "4    December    726.716667  "
      ]
     },
     "execution_count": 19,
     "metadata": {},
     "output_type": "execute_result"
    }
   ],
   "source": [
    "df_clean.head()"
   ]
  },
  {
   "cell_type": "code",
   "execution_count": 20,
   "metadata": {
    "scrolled": true
   },
   "outputs": [
    {
     "name": "stdout",
     "output_type": "stream",
     "text": [
      "<class 'pandas.core.frame.DataFrame'>\n",
      "RangeIndex: 519700 entries, 0 to 519699\n",
      "Data columns (total 17 columns):\n",
      " #   Column                   Non-Null Count   Dtype         \n",
      "---  ------                   --------------   -----         \n",
      " 0   duration_sec             519700 non-null  int64         \n",
      " 1   start_time               519700 non-null  datetime64[ns]\n",
      " 2   end_time                 519700 non-null  datetime64[ns]\n",
      " 3   start_station_id         519700 non-null  int64         \n",
      " 4   start_station_name       519700 non-null  object        \n",
      " 5   start_station_latitude   519700 non-null  float64       \n",
      " 6   start_station_longitude  519700 non-null  float64       \n",
      " 7   end_station_id           519700 non-null  int64         \n",
      " 8   end_station_name         519700 non-null  object        \n",
      " 9   end_station_latitude     519700 non-null  float64       \n",
      " 10  end_station_longitude    519700 non-null  float64       \n",
      " 11  bike_id                  519700 non-null  int64         \n",
      " 12  user_type                519700 non-null  category      \n",
      " 13  start_hour               519700 non-null  int64         \n",
      " 14  start_day                519700 non-null  object        \n",
      " 15  start_month              519700 non-null  object        \n",
      " 16  duration_min             519700 non-null  float64       \n",
      "dtypes: category(1), datetime64[ns](2), float64(5), int64(5), object(4)\n",
      "memory usage: 63.9+ MB\n"
     ]
    }
   ],
   "source": [
    "df_clean.info()"
   ]
  },
  {
   "cell_type": "markdown",
   "metadata": {},
   "source": [
    "### What is the structure of your dataset?\n",
    "\n",
    "> There are 519700 records of bike trips in 2017, these trips depends on\n",
    "Trip Duration\n",
    "- Start Time and Date\n",
    "- End Time and Date\n",
    "- Start Station ID\n",
    "- Start Station Name\n",
    "- Start Station Latitude\n",
    "- Start Station Longitude\n",
    "- End Station ID\n",
    "- End Station Name\n",
    "- End Station Latitude\n",
    "- End Station Longitude\n",
    "- Bike ID\n",
    "- User Type\n",
    "- start_hour              \n",
    "- start_day                      \n",
    "- start_month           \n",
    "- duration_min  \n",
    "\n",
    "### What is/are the main feature(s) of interest in your dataset?\n",
    "\n",
    "> The main feature is the user type.\n",
    "\n",
    "### What features in the dataset do you think will help support your investigation into your feature(s) of interest?\n",
    "\n",
    "> That there is no missing data in the dataset."
   ]
  },
  {
   "cell_type": "markdown",
   "metadata": {},
   "source": [
    "## Univariate Exploration\n",
    "\n",
    "> In this section, investigate distributions of individual variables. If\n",
    "you see unusual points or outliers, take a deeper look to clean things up\n",
    "and prepare yourself to look at relationships between variables."
   ]
  },
  {
   "cell_type": "markdown",
   "metadata": {},
   "source": [
    "## Q1:\n",
    "Is the service Used all day?"
   ]
  },
  {
   "cell_type": "code",
   "execution_count": 21,
   "metadata": {},
   "outputs": [
    {
     "data": {
      "image/png": "[encoded data removed]",
      "text/plain": [
       "<Figure size 612x360 with 1 Axes>"
      ]
     },
     "metadata": {
      "needs_background": "light"
     },
     "output_type": "display_data"
    }
   ],
   "source": [
    "usage = sb.catplot(data=df_clean, x='start_hour', kind='count', aspect=1.7)\n",
    "usage.set_axis_labels(\"Hours\", \"No of bike rides\")\n",
    "usage.fig.suptitle('Hourly usage ', y=1.03, fontsize=14, fontweight='semibold');"
   ]
  },
  {
   "cell_type": "markdown",
   "metadata": {},
   "source": [
    "At 8 people go to work or school, at 17 people finish their work. In my opinion thats what make these times busy."
   ]
  },
  {
   "cell_type": "markdown",
   "metadata": {},
   "source": [
    "## Q2:\n",
    "what is the most and the least months in the year?"
   ]
  },
  {
   "cell_type": "code",
   "execution_count": 22,
   "metadata": {},
   "outputs": [
    {
     "data": {
      "image/png": "[encoded data removed]",
      "text/plain": [
       "<Figure size 360x360 with 1 Axes>"
      ]
     },
     "metadata": {
      "needs_background": "light"
     },
     "output_type": "display_data"
    }
   ],
   "source": [
    "base_color = sb.color_palette()[0]  \n",
    "graph = sb.catplot(data=df_clean, x='start_month',                 \n",
    "                   kind='count',color = base_color)\n",
    "graph.set_axis_labels('Months', 'Number of Trips')\n",
    "graph.fig.suptitle('Ford GoBikes System Monthly Usage',\n",
    "                   y=1.07, fontsize=16, fontweight='bold');\n",
    "graph.set_xticklabels(rotation=80);"
   ]
  },
  {
   "cell_type": "markdown",
   "metadata": {},
   "source": [
    "October is the most month usage, I think because the best weather in the year is on october."
   ]
  },
  {
   "cell_type": "markdown",
   "metadata": {},
   "source": [
    "## Q3:\n",
    "What is the highest duration frequency of bike rides?"
   ]
  },
  {
   "cell_type": "code",
   "execution_count": 23,
   "metadata": {},
   "outputs": [
    {
     "data": {
      "image/png": "[encoded data removed]",
      "text/plain": [
       "<Figure size 432x288 with 1 Axes>"
      ]
     },
     "metadata": {
      "needs_background": "light"
     },
     "output_type": "display_data"
    }
   ],
   "source": [
    "bin_edges = np.arange(0,60,1)\n",
    "plt.hist(data = df_clean, x = 'duration_min', bins = bin_edges)\n",
    "plt.title(\"Trip duration\", y=1.05, fontsize=12, fontweight='semibold')\n",
    "plt.xlabel('Trip duration in minutes')\n",
    "plt.ylabel('No of bike rides');"
   ]
  },
  {
   "cell_type": "markdown",
   "metadata": {},
   "source": [
    "The histogram peaks at around 10 minutes.\n",
    "As the trip duration increases the number of trips decreases."
   ]
  },
  {
   "cell_type": "markdown",
   "metadata": {},
   "source": [
    "### Discuss the distribution(s) of your variable(s) of interest. Were there any unusual points? Did you need to perform any transformations?\n",
    "\n",
    "> No there isn't any unusual point, but I saw that as the duration increase the number of rides decreases.\n",
    "\n",
    "### Of the features you investigated, were there any unusual distributions? Did you perform any operations on the data to tidy, adjust, or change the form of the data? If so, why did you do this?\n",
    "\n",
    "> Yes I have, I changed the duration_sec to duration_min to make it understandable, and I added start hour, start day, start month for better exploration"
   ]
  },
  {
   "cell_type": "markdown",
   "metadata": {},
   "source": [
    "## Bivariate Exploration\n",
    "\n",
    "> In this section, investigate relationships between pairs of variables in your\n",
    "data. Make sure the variables that you cover here have been introduced in some\n",
    "fashion in the previous section (univariate exploration)."
   ]
  },
  {
   "cell_type": "markdown",
   "metadata": {},
   "source": [
    "## Q1:\n",
    "Who makes the largest proportion of users?"
   ]
  },
  {
   "cell_type": "code",
   "execution_count": 24,
   "metadata": {},
   "outputs": [],
   "source": [
    "customer = df_clean.query('user_type == \"Customer\"')['bike_id'].count()\n",
    "subscriber = df_clean.query('user_type == \"Subscriber\"')['bike_id'].count()\n",
    "customer_prop = customer / df_clean['bike_id'].count()\n",
    "subscriber_prop = subscriber / df_clean['bike_id'].count()"
   ]
  },
  {
   "cell_type": "markdown",
   "metadata": {},
   "source": [
    "https://pythonspot.com/matplotlib-pie-chart/"
   ]
  },
  {
   "cell_type": "code",
   "execution_count": 25,
   "metadata": {},
   "outputs": [
    {
     "data": {
      "image/png": "[encoded data removed]",
      "text/plain": [
       "<Figure size 720x360 with 1 Axes>"
      ]
     },
     "metadata": {},
     "output_type": "display_data"
    }
   ],
   "source": [
    "plt.figure(figsize = [10, 5])\n",
    "\n",
    "labels = ['Customer', 'Subscriber']\n",
    "sizes = [customer, subscriber]\n",
    "colors = ['lightcoral', 'lightskyblue']\n",
    "explode = (0, 0.1)\n",
    "\n",
    "plt.pie(sizes, explode=explode, labels=labels, colors = colors,\n",
    "        autopct='%1.1f%%', shadow=True, startangle=140)\n",
    "plt.axis('equal')\n",
    "plt.show()"
   ]
  },
  {
   "cell_type": "markdown",
   "metadata": {},
   "source": [
    "As shown Subscribers are the highest proportion with 78.7%, where Customers are 21.3%"
   ]
  },
  {
   "cell_type": "markdown",
   "metadata": {},
   "source": [
    "## Q2:\n",
    "which user type has more usage (duration)?"
   ]
  },
  {
   "cell_type": "code",
   "execution_count": 26,
   "metadata": {
    "scrolled": false
   },
   "outputs": [
    {
     "data": {
      "image/png": "[encoded data removed]",
      "text/plain": [
       "<Figure size 432x288 with 1 Axes>"
      ]
     },
     "metadata": {
      "needs_background": "light"
     },
     "output_type": "display_data"
    }
   ],
   "source": [
    "sb.boxplot(data=df_clean, x='user_type', y='duration_min', color=base_color);\n",
    "plt.xlabel('user_type');\n",
    "plt.ylabel('duration_min');\n",
    "plt.ylim(0,70);"
   ]
  },
  {
   "cell_type": "markdown",
   "metadata": {},
   "source": [
    "Customers has more duration than subscribers, thats because customers usually are visitors or tourists unlike subscribers which use the service for work."
   ]
  },
  {
   "cell_type": "markdown",
   "metadata": {},
   "source": [
    "## Q3:\n",
    "How does the trend of bike usage differ by user type?"
   ]
  },
  {
   "cell_type": "code",
   "execution_count": 27,
   "metadata": {},
   "outputs": [
    {
     "data": {
      "image/png": "[encoded data removed]",
      "text/plain": [
       "<Figure size 864x360 with 1 Axes>"
      ]
     },
     "metadata": {
      "needs_background": "light"
     },
     "output_type": "display_data"
    }
   ],
   "source": [
    "months = ['June', 'July', 'August', 'September', 'October', 'November', 'December']\n",
    "plt.figure(figsize=(12, 5))\n",
    "month_trips = df_clean.groupby(['start_month', 'user_type']).size().reset_index()\n",
    "ax = sb.pointplot(data=month_trips , x='start_month', y=0, hue = 'user_type', scale=.7, order= months);\n",
    "\n",
    "plt.title('Month trips by user type', y=1.05, fontsize=15, fontweight='bold')\n",
    "plt.xlabel('Months' , fontweight='bold');\n",
    "plt.ylabel('No of bike trips', fontweight='bold');\n",
    "plt.grid()"
   ]
  },
  {
   "cell_type": "markdown",
   "metadata": {},
   "source": [
    "Customers tend to use bikes in summer. As we can see at August and\n",
    "September is the most number of trips.\n",
    "Subscribers usage at October and November."
   ]
  },
  {
   "cell_type": "markdown",
   "metadata": {},
   "source": [
    "### Talk about some of the relationships you observed in this part of the investigation. How did the feature(s) of interest vary with other features in the dataset?\n",
    "\n",
    "> From the analysis above subscribers have higher usage than customers, but customers have longer duration which leads that they are riding for fun.\n",
    "\n",
    "### Did you observe any interesting relationships between the other features (not the main feature(s) of interest)?\n",
    "\n",
    "> I think the relationship is straightforward, nothing unclear about the data so far."
   ]
  },
  {
   "cell_type": "markdown",
   "metadata": {},
   "source": [
    "## Multivariate Exploration\n",
    "\n",
    "> Create plots of three or more variables to investigate your data even\n",
    "further. Make sure that your investigations are justified, and follow from\n",
    "your work in the previous sections."
   ]
  },
  {
   "cell_type": "markdown",
   "metadata": {},
   "source": [
    "## Q1:\n",
    "Comparing subscribers and customers weekly usage (Bike rides)"
   ]
  },
  {
   "cell_type": "markdown",
   "metadata": {},
   "source": [
    "https://stackoverflow.com/questions/25068384/bbox-to-anchor-and-loc-in-matplotlib"
   ]
  },
  {
   "cell_type": "code",
   "execution_count": 28,
   "metadata": {
    "scrolled": true
   },
   "outputs": [
    {
     "data": {
      "image/png": "[encoded data removed]",
      "text/plain": [
       "<Figure size 1008x576 with 1 Axes>"
      ]
     },
     "metadata": {
      "needs_background": "light"
     },
     "output_type": "display_data"
    }
   ],
   "source": [
    "weekday =  ['Mon', 'Tue', 'Wed', 'Thu', 'Fri', 'Sat', 'Sun']\n",
    "plt.figure(figsize=[14 , 8])\n",
    "sb.barplot(data=df_clean , x = 'start_day' , y = 'duration_min' , hue = 'user_type', order=weekday);\n",
    "plt.xlabel('Day of the week')\n",
    "plt.ylabel('trip duration')\n",
    "plt.legend(loc ='center left' , bbox_to_anchor=(1,0.5) , title='User Type' , title_fontsize = 15);\n",
    "plt.title('Duration usage per user type' , fontsize = 20 , fontweight = 'semibold');"
   ]
  },
  {
   "cell_type": "markdown",
   "metadata": {},
   "source": [
    "Subscribers has consistent duration in the whole week, on the other hand customers have a higher variance. As we can see customers tend to have more duration in weekends."
   ]
  },
  {
   "cell_type": "markdown",
   "metadata": {},
   "source": [
    "## Q2:\n",
    "Examinating customers vs subscribers hourly usage through the week"
   ]
  },
  {
   "cell_type": "markdown",
   "metadata": {},
   "source": [
    "https://www.drawingfromdata.com/setting-figure-size-using-seaborn-and-matplotlib"
   ]
  },
  {
   "cell_type": "code",
   "execution_count": 29,
   "metadata": {
    "scrolled": true
   },
   "outputs": [
    {
     "data": {
      "image/png": "[encoded data removed]",
      "text/plain": [
       "<Figure size 3600x576 with 7 Axes>"
      ]
     },
     "metadata": {
      "needs_background": "light"
     },
     "output_type": "display_data"
    }
   ],
   "source": [
    "p = sb.catplot(data = df_clean, x = 'start_hour', col = 'start_day', hue = \"user_type\",height=3, aspect=1.5 ,kind = 'count', sharey = False)\n",
    "p.fig.set_size_inches(50,8)\n",
    "p.set_axis_labels(\"Start hour\")\n",
    "p._legend.set_title('User type')\n",
    "p.set_titles(\"{col_name}\")\n",
    "plt.suptitle(\"Start hour vs day of the week per user type\", y=1, fontsize=20,fontweight='bold')\n",
    "plt.show()"
   ]
  },
  {
   "cell_type": "markdown",
   "metadata": {},
   "source": [
    "Subscribers usage on monday to friday from 8-17 which suggests that they are going to work. Customers ride in the weekends from 10-16 which suggest that they are visitors"
   ]
  },
  {
   "cell_type": "markdown",
   "metadata": {},
   "source": [
    "### Talk about some of the relationships you observed in this part of the investigation. Were there features that strengthened each other in terms of looking at your feature(s) of interest?\n",
    "\n",
    "> After examining the data closely, Customers usually have a longer duration trip than subscribers. For example subscribers on weekdays have peak hours in 8am and 5pm that made prove my points in the univariate section.\n",
    "\n",
    "\n",
    "### Were there any interesting or surprising interactions between features?\n",
    "\n",
    "> Yes i found it suprising that customers have much higher duration than subscribers even on the weekdays! Another suprising fact is that customers and subscribers have the same usage on weekends."
   ]
  },
  {
   "cell_type": "code",
   "execution_count": 30,
   "metadata": {},
   "outputs": [],
   "source": [
    "df_clean.to_csv('fordgobike.csv', index=False)"
   ]
  }
 ],
 "metadata": {
  "kernelspec": {
   "display_name": "Python 3",
   "language": "python",
   "name": "python3"
  },
  "language_info": {
   "codemirror_mode": {
    "name": "ipython",
    "version": 3
   },
   "file_extension": ".py",
   "mimetype": "text/x-python",
   "name": "python",
   "nbconvert_exporter": "python",
   "pygments_lexer": "ipython3",
   "version": "3.7.6"
  }
 },
 "nbformat": 4,
 "nbformat_minor": 2
}
